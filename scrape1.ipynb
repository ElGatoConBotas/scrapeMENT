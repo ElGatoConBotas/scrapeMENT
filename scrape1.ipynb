{
 "cells": [
  {
   "cell_type": "code",
   "execution_count": 218,
   "metadata": {},
   "outputs": [],
   "source": [
    "#scrape contacts from https://pro.ment.si/\n",
    "from selenium import webdriver\n",
    "from selenium.webdriver.common.by import By\n",
    "from selenium.webdriver.common.keys import Keys\n",
    "import time\n",
    "from selenium.common.exceptions import NoSuchElementException\n",
    "import pandas as pd\n",
    "\n",
    "\n",
    "PATH = \"C:\\Program Files (x86)\\chromedriver.exe\"\n",
    "username = \"kokosybend@gmail.com\"\n",
    "password = \"trikumarevrit\"\n",
    "data = pd.DataFrame()"
   ]
  },
  {
   "cell_type": "code",
   "execution_count": 219,
   "metadata": {},
   "outputs": [
    {
     "name": "stderr",
     "output_type": "stream",
     "text": [
      "C:\\Users\\Asus\\AppData\\Local\\Temp\\ipykernel_13588\\1540502962.py:2: DeprecationWarning: executable_path has been deprecated, please pass in a Service object\n",
      "  driver = webdriver.Chrome(PATH)\n"
     ]
    }
   ],
   "source": [
    "#using chrome browser\n",
    "driver = webdriver.Chrome(PATH)\n",
    "driver.get(\"https://pro.ment.si/\")\n",
    "#print(driver.title)"
   ]
  },
  {
   "cell_type": "code",
   "execution_count": 220,
   "metadata": {},
   "outputs": [],
   "source": [
    "#input username and password\n",
    "search = driver.find_element(By.ID,\"email\")\n",
    "search.send_keys(username)\n",
    "search.send_keys(Keys.RETURN)\n",
    "search = driver.find_element(By.ID,\"password\")\n",
    "search.send_keys(password)\n",
    "search.send_keys(Keys.RETURN)"
   ]
  },
  {
   "cell_type": "code",
   "execution_count": 221,
   "metadata": {},
   "outputs": [],
   "source": [
    "def getInfo(user)->(dict):\n",
    "\n",
    "    #GET INFO\n",
    "    #get user from arguments\n",
    "    #open the user info page\n",
    "    #get all info from paragraphs and links to social media (if any)\n",
    "    #append \n",
    "    #close page and return\n",
    "\n",
    "    user.send_keys(Keys.RETURN)\n",
    "    main = driver.find_element(By.TAG_NAME, \"main\")\n",
    "    paragraphs = main.find_elements(By.TAG_NAME, \"p\")\n",
    "    infoList = [\"Full name\", \"Company\", \"Company position\", \"Type of business\", \"Country\", \"Email\", \"Website\", \"Social\"]\n",
    "    info = {}\n",
    "    count = 0\n",
    "    for p in paragraphs:\n",
    "        #print(p.text, count)\n",
    "        info[infoList[count]] = p.text\n",
    "        count+=1\n",
    "    \n",
    "    if (count<8):\n",
    "        try:\n",
    "            social = main.find_elements(By.CSS_SELECTOR, \"div.col-sm-4.social.data > a\")\n",
    "            links = \"\"\n",
    "            for link in social:\n",
    "                anchor = link.get_attribute('href')\n",
    "                #print(anchor, count)\n",
    "                links = anchor +\", \"+ links\n",
    "            info[infoList[count]] = links[:-2]\n",
    "\n",
    "        except NoSuchElementException:\n",
    "            #print(\"No link\")\n",
    "            pass\n",
    "\n",
    "    driver.back()\n",
    "    return info"
   ]
  },
  {
   "cell_type": "code",
   "execution_count": 222,
   "metadata": {},
   "outputs": [
    {
     "name": "stderr",
     "output_type": "stream",
     "text": [
      "C:\\Users\\Asus\\AppData\\Local\\Temp\\ipykernel_13588\\2616525807.py:12: FutureWarning: The frame.append method is deprecated and will be removed from pandas in a future version. Use pandas.concat instead.\n",
      "  data = data.append(userData)\n",
      "C:\\Users\\Asus\\AppData\\Local\\Temp\\ipykernel_13588\\2616525807.py:12: FutureWarning: The frame.append method is deprecated and will be removed from pandas in a future version. Use pandas.concat instead.\n",
      "  data = data.append(userData)\n",
      "C:\\Users\\Asus\\AppData\\Local\\Temp\\ipykernel_13588\\2616525807.py:12: FutureWarning: The frame.append method is deprecated and will be removed from pandas in a future version. Use pandas.concat instead.\n",
      "  data = data.append(userData)\n",
      "C:\\Users\\Asus\\AppData\\Local\\Temp\\ipykernel_13588\\2616525807.py:12: FutureWarning: The frame.append method is deprecated and will be removed from pandas in a future version. Use pandas.concat instead.\n",
      "  data = data.append(userData)\n",
      "C:\\Users\\Asus\\AppData\\Local\\Temp\\ipykernel_13588\\2616525807.py:12: FutureWarning: The frame.append method is deprecated and will be removed from pandas in a future version. Use pandas.concat instead.\n",
      "  data = data.append(userData)\n"
     ]
    }
   ],
   "source": [
    "#on main page locate users\n",
    "#pass users to getInfo function\n",
    "main = driver.find_element(By.TAG_NAME, \"main\")\n",
    "users = main.find_elements(By.CLASS_NAME,\"user\")\n",
    "count = 1\n",
    "for user in users:\n",
    "    #print(count)\n",
    "    count+=1\n",
    "    info = getInfo(user)\n",
    "    #print (info)\n",
    "    userData = pd.DataFrame([info])\n",
    "    data = data.append(userData)\n",
    "\n"
   ]
  },
  {
   "cell_type": "code",
   "execution_count": 223,
   "metadata": {},
   "outputs": [],
   "source": [
    "#data to .csv (Excel)\n",
    "data.to_csv(\"MENTusers.csv\")"
   ]
  },
  {
   "cell_type": "code",
   "execution_count": 224,
   "metadata": {},
   "outputs": [],
   "source": [
    "#close window\n",
    "driver.quit()"
   ]
  },
  {
   "cell_type": "code",
   "execution_count": null,
   "metadata": {},
   "outputs": [],
   "source": []
  }
 ],
 "metadata": {
  "kernelspec": {
   "display_name": "Python 3.9.10 64-bit",
   "language": "python",
   "name": "python3"
  },
  "language_info": {
   "codemirror_mode": {
    "name": "ipython",
    "version": 3
   },
   "file_extension": ".py",
   "mimetype": "text/x-python",
   "name": "python",
   "nbconvert_exporter": "python",
   "pygments_lexer": "ipython3",
   "version": "3.9.10"
  },
  "orig_nbformat": 4,
  "vscode": {
   "interpreter": {
    "hash": "c25269a4018224bb4e3cb6b79397037e31419b0dedc1b97e47175df2e08dbf7b"
   }
  }
 },
 "nbformat": 4,
 "nbformat_minor": 2
}
